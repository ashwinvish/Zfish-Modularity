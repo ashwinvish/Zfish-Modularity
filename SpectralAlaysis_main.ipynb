{
  "nbformat": 4,
  "nbformat_minor": 0,
  "metadata": {
    "colab": {
      "name": "SpectralAlaysis_main.ipynb",
      "provenance": [],
      "collapsed_sections": [],
      "mount_file_id": "1z_Z1dv5bKmlItDbAZRHA4iQu6AM_E5BA",
      "authorship_tag": "ABX9TyNmIVcRfkpdAGvLAPoON4MS",
      "include_colab_link": true
    },
    "kernelspec": {
      "name": "python3",
      "display_name": "Python 3"
    }
  },
  "cells": [
    {
      "cell_type": "markdown",
      "metadata": {
        "id": "view-in-github",
        "colab_type": "text"
      },
      "source": [
        "<a href=\"https://colab.research.google.com/github/ashwinvish/Zfish-Modularity/blob/main/SpectralAlaysis_main.ipynb\" target=\"_parent\"><img src=\"https://colab.research.google.com/assets/colab-badge.svg\" alt=\"Open In Colab\"/></a>"
      ]
    },
    {
      "cell_type": "code",
      "metadata": {
        "id": "BDJ8sKdIRaN8"
      },
      "source": [
        "import scipy.io as scio\n",
        "import scipy.sparse.linalg as sc\n",
        "import numpy as np\n",
        "import matplotlib.pyplot as plt\n",
        "import sys\n",
        "sys.path.append('/content/drive/My Drive/Colab Notebooks/Functions') # path for local funcitons"
      ],
      "execution_count": null,
      "outputs": []
    },
    {
      "cell_type": "code",
      "metadata": {
        "id": "NzQ1i_LdS_rl"
      },
      "source": [
        "# import data from mat files\n",
        "df_mat = scio.loadmat('/content/drive/My Drive/Colab Notebooks/TestData/df_cleaned.mat')\n",
        "connMat_mat = scio.loadmat('/content/drive/My Drive/Colab Notebooks/TestData/ConnMatrixPre_cleaned.mat')\n",
        "allCells_mat = scio.loadmat('/content/drive/My Drive/Colab Notebooks/TestData/AllCells.mat')\n",
        "\n",
        "connMat = np.float32(connMat_mat['ConnMatrixPre_cleaned'])\n",
        "allCells  = np.float32(allCells_mat['AllCells'])\n",
        "allCells = np.ravel(allCells)"
      ],
      "execution_count": null,
      "outputs": []
    },
    {
      "cell_type": "code",
      "metadata": {
        "id": "JV12lpfWTNac",
        "outputId": "c4e1cf7d-1046-4071-cb2f-9219f3f7a0f7",
        "colab": {
          "base_uri": "https://localhost:8080/",
          "height": 265
        }
      },
      "source": [
        "fig = plt.figure()\n",
        "ax = plt.axes()\n",
        "ax.hist(connMat[connMat>0],log=True,histtype = 'bar');"
      ],
      "execution_count": null,
      "outputs": [
        {
          "output_type": "display_data",
          "data": {
            "image/png": "[encoded data removed]",
            "text/plain": [
              "<Figure size 432x288 with 1 Axes>"
            ]
          },
          "metadata": {
            "tags": [],
            "needs_background": "light"
          }
        }
      ]
    },
    {
      "cell_type": "code",
      "metadata": {
        "id": "BN_Cnx_QTWOD"
      },
      "source": [
        "#%%\n",
        "\n",
        "#  eigenvector of connectome\n",
        "\n",
        "# manually curated elements that need to be zeroed\n",
        "toClean = np.array([77150,77658,81172,82194])\n",
        "cleanIndex = np.in1d(allCells,toClean)\n",
        "b = np.where(cleanIndex==True)\n",
        "connMat[:,b] = 0\n",
        "\n",
        "vr = []\n",
        "vl = []\n",
        "eigenCentrality = []\n",
        "_,vr = sc.eigs(connMat,k=1,which='LR',maxiter=5000);\n",
        "_,vl = sc.eigs(np.transpose(connMat),k=1,which='LR',maxiter=5000);\n",
        "eigenCentrality = np.sqrt(np.multiply(abs(vl.real),abs(vr.real)))\n",
        "\n",
        "eigenSortIndex = np.argsort(eigenCentrality.real,axis=0)\n",
        "eigenSortIndex = np.flip(eigenSortIndex) # flipping from high to low.\n",
        "eigenCentralitySortedTop500 = eigenCentrality.real[eigenSortIndex[:500]]\n",
        "\n",
        "inDegree =[]\n",
        "outDegree =[]\n",
        "\n",
        "outDegree = np.sum(connMat,axis=0)\n",
        "inDegree = np.sum(connMat,axis=1)\n",
        "\n",
        "outDegreePos = inDegree>0\n",
        "inDegreePos = outDegree>0\n",
        "\n",
        "degreeCentrality =np.sqrt(inDegree*outDegree)\n",
        "degreeSortIndex = np.argsort(degreeCentrality,axis=0)\n",
        "degreeSortIndex = np.flip(degreeSortIndex) # flipping from high to low.\n"
      ],
      "execution_count": null,
      "outputs": []
    },
    {
      "cell_type": "code",
      "metadata": {
        "id": "1eZAxP5hTaVY",
        "outputId": "124b66c3-3a8f-4d6b-9a6f-6f798a42d96b",
        "colab": {
          "base_uri": "https://localhost:8080/",
          "height": 612
        }
      },
      "source": [
        "# make some plots\n",
        "# plt.subplot(1,2,1)\n",
        "# plt.plot(vl.real[1:])\n",
        "# plt.plot(vr.real[1:])\n",
        "\n",
        "\n",
        "# plt.subplot(1,2,2)\n",
        "plt.figure(figsize=[10,10])\n",
        "ax = plt.gca()\n",
        "plt.plot(np.reshape(eigenCentrality[eigenSortIndex[:2884]],[2884,1]), marker = 'o', label = 'eigencentrality',lw = 0)\n",
        "plt.yscale(\"log\")\n",
        "plt.ylabel('Eigencentrality')\n",
        "\n",
        "ax2 = ax.twinx()\n",
        "ax2.plot(np.reshape(degreeCentrality[degreeSortIndex[:2884]],[2884,1]),marker = 'v', label = 'degreeCentrality',color = 'k',lw = 0)\n",
        "plt.ylabel('Degreecentralty')\n",
        "\n"
      ],
      "execution_count": null,
      "outputs": [
        {
          "output_type": "execute_result",
          "data": {
            "text/plain": [
              "Text(0, 0.5, 'Degreecentralty')"
            ]
          },
          "metadata": {
            "tags": []
          },
          "execution_count": 45
        },
        {
          "output_type": "display_data",
          "data": {
            "image/png": "[encoded data removed]",
            "text/plain": [
              "<Figure size 720x720 with 2 Axes>"
            ]
          },
          "metadata": {
            "tags": [],
            "needs_background": "light"
          }
        }
      ]
    },
    {
      "cell_type": "code",
      "metadata": {
        "id": "WaIJbLnF1aqF"
      },
      "source": [
        ""
      ],
      "execution_count": null,
      "outputs": []
    }
  ]
}